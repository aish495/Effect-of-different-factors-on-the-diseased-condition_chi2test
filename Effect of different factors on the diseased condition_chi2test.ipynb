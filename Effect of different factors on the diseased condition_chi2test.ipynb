{
 "cells": [
  {
   "cell_type": "code",
   "execution_count": 38,
   "id": "5882da48-c52d-40d1-923b-c036a92819f6",
   "metadata": {},
   "outputs": [],
   "source": [
    "#In our dataset, we have recorded systolic blood pressure, cholesterol, glucose levels, activity minutes, and age, along with participants’ smoking habits and disease status. Additionally, each participant was assigned to either Treatment A or Treatment B. As a first step, we will examine whether the below categories are associated.” This can be determined by Chi square test.\n",
    "#1. Smoker & Disease\n",
    "#2. Gender & Disease\n",
    "#3. Treatment & Disease"
   ]
  },
  {
   "cell_type": "code",
   "execution_count": 35,
   "id": "4d8d550d-c213-4ae9-ba30-eebd2480c540",
   "metadata": {},
   "outputs": [],
   "source": [
    "import pandas as pd\n",
    "import numpy as np\n",
    "from scipy.stats import chi2_contingency"
   ]
  },
  {
   "cell_type": "code",
   "execution_count": 36,
   "id": "8eea5ebb-036d-46ba-b405-3d59a4f70b8e",
   "metadata": {},
   "outputs": [
    {
     "data": {
      "text/html": [
       "<div>\n",
       "<style scoped>\n",
       "    .dataframe tbody tr th:only-of-type {\n",
       "        vertical-align: middle;\n",
       "    }\n",
       "\n",
       "    .dataframe tbody tr th {\n",
       "        vertical-align: top;\n",
       "    }\n",
       "\n",
       "    .dataframe thead th {\n",
       "        text-align: right;\n",
       "    }\n",
       "</style>\n",
       "<table border=\"1\" class=\"dataframe\">\n",
       "  <thead>\n",
       "    <tr style=\"text-align: right;\">\n",
       "      <th></th>\n",
       "      <th>id</th>\n",
       "      <th>gender</th>\n",
       "      <th>smoker</th>\n",
       "      <th>treatment</th>\n",
       "      <th>disease</th>\n",
       "      <th>age</th>\n",
       "      <th>bmi</th>\n",
       "      <th>systolic_bp</th>\n",
       "      <th>cholesterol</th>\n",
       "      <th>glucose</th>\n",
       "      <th>activity_mins</th>\n",
       "    </tr>\n",
       "  </thead>\n",
       "  <tbody>\n",
       "    <tr>\n",
       "      <th>0</th>\n",
       "      <td>1</td>\n",
       "      <td>F</td>\n",
       "      <td>No</td>\n",
       "      <td>A</td>\n",
       "      <td>No</td>\n",
       "      <td>63</td>\n",
       "      <td>19.3</td>\n",
       "      <td>113.9</td>\n",
       "      <td>150.9</td>\n",
       "      <td>80.6</td>\n",
       "      <td>59.7</td>\n",
       "    </tr>\n",
       "    <tr>\n",
       "      <th>1</th>\n",
       "      <td>2</td>\n",
       "      <td>M</td>\n",
       "      <td>No</td>\n",
       "      <td>B</td>\n",
       "      <td>No</td>\n",
       "      <td>33</td>\n",
       "      <td>17.6</td>\n",
       "      <td>105.1</td>\n",
       "      <td>134.4</td>\n",
       "      <td>74.8</td>\n",
       "      <td>77.8</td>\n",
       "    </tr>\n",
       "    <tr>\n",
       "      <th>2</th>\n",
       "      <td>3</td>\n",
       "      <td>F</td>\n",
       "      <td>No</td>\n",
       "      <td>B</td>\n",
       "      <td>Yes</td>\n",
       "      <td>28</td>\n",
       "      <td>17.8</td>\n",
       "      <td>111.9</td>\n",
       "      <td>120.8</td>\n",
       "      <td>78.8</td>\n",
       "      <td>78.8</td>\n",
       "    </tr>\n",
       "    <tr>\n",
       "      <th>3</th>\n",
       "      <td>4</td>\n",
       "      <td>M</td>\n",
       "      <td>No</td>\n",
       "      <td>B</td>\n",
       "      <td>No</td>\n",
       "      <td>55</td>\n",
       "      <td>17.2</td>\n",
       "      <td>121.0</td>\n",
       "      <td>148.6</td>\n",
       "      <td>65.5</td>\n",
       "      <td>52.7</td>\n",
       "    </tr>\n",
       "    <tr>\n",
       "      <th>4</th>\n",
       "      <td>5</td>\n",
       "      <td>M</td>\n",
       "      <td>No</td>\n",
       "      <td>A</td>\n",
       "      <td>No</td>\n",
       "      <td>43</td>\n",
       "      <td>21.6</td>\n",
       "      <td>130.1</td>\n",
       "      <td>147.1</td>\n",
       "      <td>69.9</td>\n",
       "      <td>48.8</td>\n",
       "    </tr>\n",
       "  </tbody>\n",
       "</table>\n",
       "</div>"
      ],
      "text/plain": [
       "   id gender smoker treatment disease  age   bmi  systolic_bp  cholesterol  \\\n",
       "0   1      F     No         A      No   63  19.3        113.9        150.9   \n",
       "1   2      M     No         B      No   33  17.6        105.1        134.4   \n",
       "2   3      F     No         B     Yes   28  17.8        111.9        120.8   \n",
       "3   4      M     No         B      No   55  17.2        121.0        148.6   \n",
       "4   5      M     No         A      No   43  21.6        130.1        147.1   \n",
       "\n",
       "   glucose  activity_mins  \n",
       "0     80.6           59.7  \n",
       "1     74.8           77.8  \n",
       "2     78.8           78.8  \n",
       "3     65.5           52.7  \n",
       "4     69.9           48.8  "
      ]
     },
     "execution_count": 36,
     "metadata": {},
     "output_type": "execute_result"
    }
   ],
   "source": [
    "df = pd.read_csv(r\"C:\\Users\\hp\\Downloads\\Effect of smoking on the diseased condition_chi2test.csv\")\n",
    "df.head(5)\n"
   ]
  },
  {
   "cell_type": "code",
   "execution_count": 37,
   "id": "6f0e0254-813c-4a2f-9a3a-411cde92734f",
   "metadata": {},
   "outputs": [],
   "source": [
    "#1. Smoker & Disease\n",
    "\n",
    "#Setting up Hypothesis\n",
    "\n",
    "#Null Hypothesis (H₀): Smoking and disease status are independent (no association).\n",
    "#Alternative Hypothesis (H₁): Smoking and disease status are associated."
   ]
  },
  {
   "cell_type": "code",
   "execution_count": 41,
   "id": "ad1fcecc-6131-4456-ae9b-3640731e6412",
   "metadata": {},
   "outputs": [
    {
     "name": "stdout",
     "output_type": "stream",
     "text": [
      "disease  No  Yes\n",
      "smoker          \n",
      "No       25    8\n",
      "Yes       4    3\n",
      "Chi2 Statistic: 0.28715276364179176\n",
      "p-value: 0.5920509101896898\n",
      "Degrees of Freedom: 1\n",
      "Expected Frequencies:\n",
      " [[23.925  9.075]\n",
      " [ 5.075  1.925]]\n"
     ]
    }
   ],
   "source": [
    "contingency = pd.crosstab(df[\"smoker\"], df[\"disease\"])\n",
    "print(contingency)\n",
    "\n",
    "# Chi-square test\n",
    "chi2, p, dof, expected = chi2_contingency(contingency, correction = True)\n",
    "\n",
    "print(\"Chi2 Statistic:\", chi2)\n",
    "print(\"p-value:\", p)\n",
    "print(\"Degrees of Freedom:\", dof)\n",
    "print(\"Expected Frequencies:\\n\", expected)"
   ]
  },
  {
   "cell_type": "code",
   "execution_count": 42,
   "id": "04b9211c-ad2a-4b72-9d89-4d3c0aff0749",
   "metadata": {},
   "outputs": [],
   "source": [
    "#Interpretation\n",
    "\n",
    "#Since p = 0.592 > 0.05, we fail to reject the null hypothesis (H₀).\n",
    "#This means: in this dataset, there is no statistically significant association between smoking status and disease occurrence.\n",
    "#In plain words: whether someone smokes or not does not appear to affect their disease status (based on these 40 observations)."
   ]
  },
  {
   "cell_type": "code",
   "execution_count": 43,
   "id": "f3bd4a37-c436-4d07-8423-cb980c0f3953",
   "metadata": {},
   "outputs": [],
   "source": [
    "#2. Gender & Disease\n",
    "\n",
    "#Setting up Hypothesis\n",
    "\n",
    "#Null Hypothesis (H₀): Gender & Disease status are independent (no association).\n",
    "#Alternative Hypothesis (H₁): Gender & Disease status are associated."
   ]
  },
  {
   "cell_type": "code",
   "execution_count": 44,
   "id": "2aa4b85c-6b96-4674-850d-dbb7664086e3",
   "metadata": {},
   "outputs": [
    {
     "name": "stdout",
     "output_type": "stream",
     "text": [
      "Contingency Table:\n",
      " disease  No  Yes\n",
      "gender          \n",
      "F        14   11\n",
      "M        15    0\n",
      "\n",
      "Chi2 Statistic: 7.03030303030303\n",
      "p-value: 0.00801417905984472\n",
      "Degrees of Freedom: 1\n",
      "Expected Frequencies:\n",
      " [[18.125  6.875]\n",
      " [10.875  4.125]]\n"
     ]
    }
   ],
   "source": [
    "contingency = pd.crosstab(df[\"gender\"], df[\"disease\"])\n",
    "print(\"Contingency Table:\\n\", contingency)\n",
    "\n",
    "# Chi-square test\n",
    "chi2, p, dof, expected = chi2_contingency(contingency)\n",
    "\n",
    "print(\"\\nChi2 Statistic:\", chi2)\n",
    "print(\"p-value:\", p)\n",
    "print(\"Degrees of Freedom:\", dof)\n",
    "print(\"Expected Frequencies:\\n\", expected)"
   ]
  },
  {
   "cell_type": "code",
   "execution_count": null,
   "id": "d65231e6-0121-4408-ac29-cb33b8cad96b",
   "metadata": {},
   "outputs": [],
   "source": [
    "#Interpretation\n",
    "\n",
    "#Since p = 0.008 < 0.05, we reject the null hypothesis (H₀).\n",
    "#This means: in this dataset, there is statistically significant association between Gender and disease occurrence.\n",
    "#In plain words: In this dataset, gender seems to play a role in whether a person has the disease. Females are more likely to have the disease than expected, while males are less likely."
   ]
  },
  {
   "cell_type": "code",
   "execution_count": null,
   "id": "f48f635b-7072-4857-b56c-e408017a07df",
   "metadata": {},
   "outputs": [],
   "source": [
    "#3. Treatment & Disease\n",
    "\n",
    "#Setting up Hypothesis\n",
    "\n",
    "#Null Hypothesis (H₀): Treatment & Disease status are independent (no association).\n",
    "#Alternative Hypothesis (H₁): Treatment & Disease status are associated."
   ]
  },
  {
   "cell_type": "code",
   "execution_count": 45,
   "id": "eb2c862d-b34f-4050-9350-7d7c93634bd9",
   "metadata": {},
   "outputs": [
    {
     "name": "stdout",
     "output_type": "stream",
     "text": [
      "Contingency Table:\n",
      " disease    No  Yes\n",
      "treatment         \n",
      "A          16    7\n",
      "B          13    4\n",
      "\n",
      "Chi2 Statistic: 0.01571406809964003\n",
      "p-value: 0.9002419053318376\n",
      "Degrees of Freedom: 1\n",
      "Expected Frequencies:\n",
      " [[16.675  6.325]\n",
      " [12.325  4.675]]\n"
     ]
    }
   ],
   "source": [
    "contingency = pd.crosstab(df[\"treatment\"], df[\"disease\"])\n",
    "print(\"Contingency Table:\\n\", contingency)\n",
    "\n",
    "# Chi-square test\n",
    "chi2, p, dof, expected = chi2_contingency(contingency)\n",
    "\n",
    "print(\"\\nChi2 Statistic:\", chi2)\n",
    "print(\"p-value:\", p)\n",
    "print(\"Degrees of Freedom:\", dof)\n",
    "print(\"Expected Frequencies:\\n\", expected)\n"
   ]
  },
  {
   "cell_type": "code",
   "execution_count": null,
   "id": "600e981c-d6d0-4c60-b3d8-2142d19e7288",
   "metadata": {},
   "outputs": [],
   "source": [
    "#Interpretation\n",
    "\n",
    "#Since p = 0.900 > 0.05, we fail to reject the null hypothesis (H₀).\n",
    "#This means: in this dataset, there is no statistically significant association between Treatment and Disease occurrence."
   ]
  }
 ],
 "metadata": {
  "kernelspec": {
   "display_name": "Python 3 (ipykernel)",
   "language": "python",
   "name": "python3"
  },
  "language_info": {
   "codemirror_mode": {
    "name": "ipython",
    "version": 3
   },
   "file_extension": ".py",
   "mimetype": "text/x-python",
   "name": "python",
   "nbconvert_exporter": "python",
   "pygments_lexer": "ipython3",
   "version": "3.13.5"
  }
 },
 "nbformat": 4,
 "nbformat_minor": 5
}
